{
 "cells": [
  {
   "cell_type": "code",
   "execution_count": 10,
   "metadata": {},
   "outputs": [
    {
     "name": "stderr",
     "output_type": "stream",
     "text": [
      "\n",
      "Attaching package: 'dplyr'\n",
      "\n",
      "The following objects are masked from 'package:stats':\n",
      "\n",
      "    filter, lag\n",
      "\n",
      "The following objects are masked from 'package:base':\n",
      "\n",
      "    intersect, setdiff, setequal, union\n",
      "\n",
      "\n",
      "Attaching package: 'lubridate'\n",
      "\n",
      "The following object is masked from 'package:base':\n",
      "\n",
      "    date\n",
      "\n"
     ]
    }
   ],
   "source": [
    "#Load in the Libraries\n",
    "library(dplyr)\n",
    "library(ggplot2)\n",
    "library(lubridate)\n",
    "library(reshape2)\n",
    "library(scales)"
   ]
  },
  {
   "cell_type": "markdown",
   "metadata": {},
   "source": [
    "Let us load in the datasets and exxamine the structure of the dataset"
   ]
  },
  {
   "cell_type": "code",
   "execution_count": 6,
   "metadata": {},
   "outputs": [
    {
     "name": "stdout",
     "output_type": "stream",
     "text": [
      "'data.frame':\t2935849 obs. of  6 variables:\n",
      " $ date          : Factor w/ 1034 levels \"01.01.2013\",\"01.01.2014\",..: 35 69 137 171 477 307 35 103 341 69 ...\n",
      " $ date_block_num: int  0 0 0 0 0 0 0 0 0 0 ...\n",
      " $ shop_id       : int  59 25 25 25 25 25 25 25 25 25 ...\n",
      " $ item_id       : int  22154 2552 2552 2554 2555 2564 2565 2572 2572 2573 ...\n",
      " $ item_price    : num  999 899 899 1709 1099 ...\n",
      " $ item_cnt_day  : num  1 1 -1 1 1 1 1 1 1 3 ...\n",
      "'data.frame':\t22170 obs. of  3 variables:\n",
      " $ item_name       : Factor w/ 22170 levels \"! Ð’Ðž Ð’Ð›Ð\\220Ð¡Ð¢Ð\\230 Ð\\235Ð\\220Ð’Ð\\220Ð–Ð”Ð•Ð\\235Ð\\230Ð¯ (ÐŸÐ›Ð\\220Ð¡Ð¢.)         D\",..: 1 2 4 5 10 9 7 6 8 3 ...\n",
      " $ item_id         : int  0 1 2 3 4 5 6 7 8 9 ...\n",
      " $ item_category_id: int  40 76 40 40 40 40 40 40 40 40 ...\n"
     ]
    }
   ],
   "source": [
    "#Load in the datasets\n",
    "sales_train <- read.csv(\"sales_train_v2.csv\", header = T, sep = \",\")\n",
    "items <- read.csv(\"items.csv\", header = T, sep = \",\")\n",
    "\n",
    "#Examine structure\n",
    "str(sales_train)\n",
    "str(items)"
   ]
  },
  {
   "cell_type": "markdown",
   "metadata": {},
   "source": [
    "Let us join both data, we will be using a left join. You'd discover that both dataframes have item_id in common, LEFT JOIN keyword returns all records from the left table (table1), and the matched records from the right table (table2)."
   ]
  },
  {
   "cell_type": "code",
   "execution_count": 11,
   "metadata": {},
   "outputs": [
    {
     "name": "stdout",
     "output_type": "stream",
     "text": [
      "'data.frame':\t2935849 obs. of  7 variables:\n",
      " $ date            : Factor w/ 1034 levels \"01.01.2013\",\"01.01.2014\",..: 35 69 137 171 477 307 35 103 341 69 ...\n",
      " $ date_block_num  : int  0 0 0 0 0 0 0 0 0 0 ...\n",
      " $ shop_id         : int  59 25 25 25 25 25 25 25 25 25 ...\n",
      " $ item_id         : int  22154 2552 2552 2554 2555 2564 2565 2572 2572 2573 ...\n",
      " $ item_price      : num  999 899 899 1709 1099 ...\n",
      " $ item_cnt_day    : num  1 1 -1 1 1 1 1 1 1 3 ...\n",
      " $ item_category_id: int  37 58 58 58 56 59 56 55 55 55 ...\n"
     ]
    }
   ],
   "source": [
    "#Lets work with the above data first\n",
    "sale_item_join <- sales_train %>% \n",
    "  left_join(items, by = \"item_id\")\n",
    "\n",
    "#Fill name with null\n",
    "sale_item_join$item_name <- NULL #We do not need the item name as each item has its own id and category\n",
    "str(sale_item_join)\n"
   ]
  },
  {
   "cell_type": "code",
   "execution_count": 12,
   "metadata": {},
   "outputs": [],
   "source": [
    "#Remove the other datasets no longer needed\n",
    "#rm(\"items\", \"sales_train\")\n",
    "#convert date column to date class\n",
    "#use dmy from lubridate data\n",
    "sale_item_join$date <- dmy(sale_item_join$date)"
   ]
  },
  {
   "cell_type": "code",
   "execution_count": 13,
   "metadata": {},
   "outputs": [],
   "source": [
    "#Lets apply lubridate functions to create year day and month columns\n",
    "sale_item_join$year <- year(sale_item_join$date)\n",
    "sale_item_join$month <- month(sale_item_join$date)\n",
    "sale_item_join$day <- day(sale_item_join$date)\n",
    "sale_item_join$weekday <- weekdays(sale_item_join$date)\n",
    "\n",
    "\n",
    "#lets convert year and weekday to factor\n",
    "sale_item_join$year <- as.factor(sale_item_join$year)\n",
    "sale_item_join$weekday <- as.factor(sale_item_join$weekday)"
   ]
  },
  {
   "cell_type": "markdown",
   "metadata": {},
   "source": [
    "Now let us try and have a monthly count of individual products sold in individual stores over the period of study"
   ]
  },
  {
   "cell_type": "code",
   "execution_count": 14,
   "metadata": {},
   "outputs": [
    {
     "name": "stdout",
     "output_type": "stream",
     "text": [
      "'data.frame':\t2935849 obs. of  12 variables:\n",
      " $ date            : Date, format: \"2013-01-02\" \"2013-01-03\" ...\n",
      " $ date_block_num  : int  0 0 0 0 0 0 0 0 0 0 ...\n",
      " $ shop_id         : int  59 25 25 25 25 25 25 25 25 25 ...\n",
      " $ item_id         : int  22154 2552 2552 2554 2555 2564 2565 2572 2572 2573 ...\n",
      " $ item_price      : num  999 899 899 1709 1099 ...\n",
      " $ item_cnt_day    : num  1 1 -1 1 1 1 1 1 1 3 ...\n",
      " $ item_category_id: int  37 58 58 58 56 59 56 55 55 55 ...\n",
      " $ year            : Factor w/ 3 levels \"2013\",\"2014\",..: 1 1 1 1 1 1 1 1 1 1 ...\n",
      " $ month           : num  1 1 1 1 1 1 1 1 1 1 ...\n",
      " $ day             : int  2 3 5 6 15 10 2 4 11 3 ...\n",
      " $ weekday         : Factor w/ 7 levels \"Friday\",\"Monday\",..: 7 5 3 4 6 5 7 1 1 5 ...\n",
      " $ item_count_month: num  1 0 0 1 1 1 1 2 2 3 ...\n"
     ]
    },
    {
     "data": {
      "text/plain": [
       "      date            date_block_num     shop_id      item_id     \n",
       " Min.   :2013-01-01   Min.   : 0.00   Min.   : 0   Min.   :    0  \n",
       " 1st Qu.:2013-08-01   1st Qu.: 7.00   1st Qu.:22   1st Qu.: 4476  \n",
       " Median :2014-03-04   Median :14.00   Median :31   Median : 9343  \n",
       " Mean   :2014-04-03   Mean   :14.57   Mean   :33   Mean   :10197  \n",
       " 3rd Qu.:2014-12-05   3rd Qu.:23.00   3rd Qu.:47   3rd Qu.:15684  \n",
       " Max.   :2015-10-31   Max.   :33.00   Max.   :59   Max.   :22169  \n",
       "                                                                  \n",
       "   item_price        item_cnt_day      item_category_id   year        \n",
       " Min.   :    -1.0   Min.   : -22.000   Min.   : 0       2013:1267562  \n",
       " 1st Qu.:   249.0   1st Qu.:   1.000   1st Qu.:28       2014:1055861  \n",
       " Median :   399.0   Median :   1.000   Median :40       2015: 612426  \n",
       " Mean   :   890.9   Mean   :   1.243   Mean   :40                     \n",
       " 3rd Qu.:   999.0   3rd Qu.:   1.000   3rd Qu.:55                     \n",
       " Max.   :307980.0   Max.   :2169.000   Max.   :83                     \n",
       "                                                                      \n",
       "     month             day             weekday       item_count_month  \n",
       " Min.   : 1.000   Min.   : 1.00   Friday   :439298   Min.   : -22.000  \n",
       " 1st Qu.: 3.000   1st Qu.: 8.00   Monday   :337074   1st Qu.:   1.000  \n",
       " Median : 6.000   Median :16.00   Saturday :590359   Median :   2.000  \n",
       " Mean   : 6.248   Mean   :15.85   Sunday   :503104   Mean   :   7.401  \n",
       " 3rd Qu.: 9.000   3rd Qu.:24.00   Thursday :367280   3rd Qu.:   5.000  \n",
       " Max.   :12.000   Max.   :31.00   Tuesday  :345772   Max.   :2253.000  \n",
       "                                  Wednesday:352962                     "
      ]
     },
     "metadata": {},
     "output_type": "display_data"
    }
   ],
   "source": [
    "#Lets examine how many products are sold monthly\n",
    "monthly_count <- sale_item_join %>% \n",
    "  group_by(year, month, shop_id, item_id) %>% \n",
    "  summarise(item_count_month = sum(item_cnt_day)) %>% \n",
    "  ungroup()\n",
    "\n",
    "#Left join monthly_count with sale_item_join\n",
    "summary_data <- sale_item_join %>% \n",
    "  left_join(monthly_count, by = c(\"year\", \"month\", \"shop_id\", \"item_id\"))\n",
    "\n",
    "str(summary_data)\n",
    "summary(summary_data) #we now have a monthly sale column as well as a daily sale column"
   ]
  },
  {
   "cell_type": "code",
   "execution_count": 15,
   "metadata": {},
   "outputs": [
    {
     "data": {
      "text/html": [
       "<dl class=dl-horizontal>\n",
       "\t<dt>date</dt>\n",
       "\t\t<dd>0</dd>\n",
       "\t<dt>date_block_num</dt>\n",
       "\t\t<dd>0</dd>\n",
       "\t<dt>shop_id</dt>\n",
       "\t\t<dd>0</dd>\n",
       "\t<dt>item_id</dt>\n",
       "\t\t<dd>0</dd>\n",
       "\t<dt>item_price</dt>\n",
       "\t\t<dd>0</dd>\n",
       "\t<dt>item_cnt_day</dt>\n",
       "\t\t<dd>0</dd>\n",
       "\t<dt>item_category_id</dt>\n",
       "\t\t<dd>0</dd>\n",
       "\t<dt>year</dt>\n",
       "\t\t<dd>0</dd>\n",
       "\t<dt>month</dt>\n",
       "\t\t<dd>0</dd>\n",
       "\t<dt>day</dt>\n",
       "\t\t<dd>0</dd>\n",
       "\t<dt>weekday</dt>\n",
       "\t\t<dd>0</dd>\n",
       "\t<dt>item_count_month</dt>\n",
       "\t\t<dd>0</dd>\n",
       "</dl>\n"
      ],
      "text/latex": [
       "\\begin{description*}\n",
       "\\item[date] 0\n",
       "\\item[date\\textbackslash{}\\_block\\textbackslash{}\\_num] 0\n",
       "\\item[shop\\textbackslash{}\\_id] 0\n",
       "\\item[item\\textbackslash{}\\_id] 0\n",
       "\\item[item\\textbackslash{}\\_price] 0\n",
       "\\item[item\\textbackslash{}\\_cnt\\textbackslash{}\\_day] 0\n",
       "\\item[item\\textbackslash{}\\_category\\textbackslash{}\\_id] 0\n",
       "\\item[year] 0\n",
       "\\item[month] 0\n",
       "\\item[day] 0\n",
       "\\item[weekday] 0\n",
       "\\item[item\\textbackslash{}\\_count\\textbackslash{}\\_month] 0\n",
       "\\end{description*}\n"
      ],
      "text/markdown": [
       "date\n",
       ":   0date_block_num\n",
       ":   0shop_id\n",
       ":   0item_id\n",
       ":   0item_price\n",
       ":   0item_cnt_day\n",
       ":   0item_category_id\n",
       ":   0year\n",
       ":   0month\n",
       ":   0day\n",
       ":   0weekday\n",
       ":   0item_count_month\n",
       ":   0\n",
       "\n"
      ],
      "text/plain": [
       "            date   date_block_num          shop_id          item_id \n",
       "               0                0                0                0 \n",
       "      item_price     item_cnt_day item_category_id             year \n",
       "               0                0                0                0 \n",
       "           month              day          weekday item_count_month \n",
       "               0                0                0                0 "
      ]
     },
     "metadata": {},
     "output_type": "display_data"
    },
    {
     "data": {
      "text/html": [
       "FALSE"
      ],
      "text/latex": [
       "FALSE"
      ],
      "text/markdown": [
       "FALSE"
      ],
      "text/plain": [
       "[1] FALSE"
      ]
     },
     "metadata": {},
     "output_type": "display_data"
    }
   ],
   "source": [
    "#lets examine if there are missing values\n",
    "colSums(is.na(summary_data))\n",
    "#There are no missing values\n",
    "\n",
    "#examine for null data\n",
    "is.null(summary_data)\n"
   ]
  },
  {
   "cell_type": "markdown",
   "metadata": {},
   "source": [
    "#### EXPLORATORY DATA ANALYSIS"
   ]
  },
  {
   "cell_type": "code",
   "execution_count": 16,
   "metadata": {},
   "outputs": [
    {
     "data": {
      "image/png": "[encoded data removed]",
      "text/plain": [
       "plot without title"
      ]
     },
     "metadata": {},
     "output_type": "display_data"
    }
   ],
   "source": [
    "#correlation matrix for all numeric columns\n",
    "cor_data <- summary_data %>% \n",
    "  select(3:7, 12)\n",
    "\n",
    "melt(cor(cor_data)) %>% \n",
    "  ggplot(., aes(Var1, Var2, fill = value)) +\n",
    "  geom_tile() +\n",
    "  scale_fill_gradient(low = \"grey\", high = \"darkred\") +\n",
    "  geom_text(aes(Var1, Var2, label = round(value,2)), size = 4) +\n",
    "  labs(title = \"Correlation Matrix\", x = \"Numeric column\", y = \"Numeric Column\",\n",
    "       fill = \"Coefficient Range\") +\n",
    "  theme(axis.text.x = element_text(vjust = 0.5, angle = 45),\n",
    "        plot.title = element_text(face = \"bold\", hjust = 0.5))\n"
   ]
  },
  {
   "cell_type": "code",
   "execution_count": 18,
   "metadata": {},
   "outputs": [
    {
     "data": {
      "text/html": [
       "<table>\n",
       "<thead><tr><th scope=col>n</th></tr></thead>\n",
       "<tbody>\n",
       "\t<tr><td>60</td></tr>\n",
       "</tbody>\n",
       "</table>\n"
      ],
      "text/latex": [
       "\\begin{tabular}{r|l}\n",
       " n\\\\\n",
       "\\hline\n",
       "\t 60\\\\\n",
       "\\end{tabular}\n"
      ],
      "text/markdown": [
       "\n",
       "| n |\n",
       "|---|\n",
       "| 60 |\n",
       "\n"
      ],
      "text/plain": [
       "  n \n",
       "1 60"
      ]
     },
     "metadata": {},
     "output_type": "display_data"
    }
   ],
   "source": [
    "#How many distinct shops do we have\n",
    "summary_data %>% \n",
    "  select(shop_id) %>% distinct() %>% \n",
    "  count()\n",
    "\n",
    "#Lets examine the amount of unique Item from various shops\n",
    "summary_data %>% \n",
    "  select(item_id) %>% \n",
    "  distinct() %>% \n",
    "  count()"
   ]
  },
  {
   "cell_type": "code",
   "execution_count": 17,
   "metadata": {},
   "outputs": [
    {
     "data": {
      "image/png": "[encoded data removed]",
      "text/plain": [
       "plot without title"
      ]
     },
     "metadata": {},
     "output_type": "display_data"
    }
   ],
   "source": [
    "#Examine the most popular shops and total sales of the shop\n",
    "summary_data %>% \n",
    "  group_by(shop_id) %>% \n",
    "  summarise(item_count = sum(item_count_month)) %>% \n",
    "  ggplot(., aes(reorder(as.factor(shop_id), item_count), item_count, fill = as.factor(shop_id))) +\n",
    "  geom_bar(stat = \"identity\", show.legend = F) +\n",
    "  coord_flip() + \n",
    "  labs(title = \"Shop sales\", x = \"Shop ID\", ylab = \"Item Count\")"
   ]
  },
  {
   "cell_type": "code",
   "execution_count": null,
   "metadata": {},
   "outputs": [],
   "source": [
    "#Which shop has the most item in their shop\n",
    "summary_data %>% \n",
    "  group_by(shop_id) %>% \n",
    "  summarise(item_count = n_distinct(item_id)) %>% \n",
    "  ggplot(.,aes(reorder(as.factor(shop_id), item_count), item_count, fill = as.factor(shop_id))) +\n",
    "  geom_bar(stat = \"identity\", show.legend = F) +\n",
    "  coord_flip() + \n",
    "  labs(title = \"most Items Available at a shop\", x = \"Shop ID\", ylab = \"Item Count\")\n"
   ]
  },
  {
   "cell_type": "code",
   "execution_count": null,
   "metadata": {},
   "outputs": [],
   "source": [
    "#What are the day and month wise sales\n",
    "summary_data %>% \n",
    "  group_by(month, day) %>% \n",
    "  summarise(sales = sum(item_cnt_day*item_price)) %>% \n",
    "  ungroup() %>% \n",
    "  ggplot(.,aes(factor(day), sales, col = factor(month))) +\n",
    "  geom_line(aes(group = month)) + geom_point() +\n",
    "  labs(title = \"Day - Month sales\", fill = \"Month\")"
   ]
  },
  {
   "cell_type": "code",
   "execution_count": null,
   "metadata": {},
   "outputs": [],
   "source": [
    "#Percentage of items sold daily\n",
    "summary_data %>% \n",
    "  group_by(date_block_num) %>% \n",
    "  summarise(monthly_sales_freq = round(sum(item_cnt_day)/items_sold, 3)) %>% \n",
    "  ungroup() %>% \n",
    "  ggplot(.,aes(x = \"\", y = monthly_sales_freq, fill = factor(date_block_num))) +\n",
    "  geom_bar(width = 1, stat = \"identity\") +\n",
    "  coord_polar(theta = \"y\", start = 0) +\n",
    "  geom_col(position = \"fill\") + \n",
    "  geom_label(aes(label = paste0(monthly_sales_freq *100, \"%\")), position = \n",
    "               position_fill(vjust = 0.5)) +\n",
    "  labs(x = \"\", y = \"Monthly Item Frequency Sales\", fill =  \"Months\",\n",
    "       title = \"% of Items sold monthly\")\n"
   ]
  }
 ],
 "metadata": {
  "kernelspec": {
   "display_name": "R",
   "language": "R",
   "name": "ir"
  },
  "language_info": {
   "codemirror_mode": "r",
   "file_extension": ".r",
   "mimetype": "text/x-r-source",
   "name": "R",
   "pygments_lexer": "r",
   "version": "3.6.1"
  }
 },
 "nbformat": 4,
 "nbformat_minor": 2
}
